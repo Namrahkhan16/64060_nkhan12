{
  "nbformat": 4,
  "nbformat_minor": 0,
  "metadata": {
    "colab": {
      "provenance": []
    },
    "kernelspec": {
      "name": "python3",
      "display_name": "Python 3"
    },
    "language_info": {
      "name": "python"
    }
  },
  "cells": [
    {
      "cell_type": "code",
      "execution_count": 172,
      "metadata": {
        "id": "GDjZ188SyrGb"
      },
      "outputs": [],
      "source": [
        "import numpy as np\n",
        "import pandas as pd\n",
        "import matplotlib.pyplot as plt\n",
        "#!pip install hmmlearn\n",
        "from hmmlearn import hmm\n",
        "from hmmlearn import hmm\n",
        "import seaborn as sns\n",
        "import tensorflow as tf\n",
        "from keras.layers import Input, Dense, BatchNormalization\n",
        "from tensorflow import keras\n",
        "from tensorflow.keras import Input, Model\n",
        "#!pip install tensorflow\n",
        "#!pip install keras\n",
        "from tensorflow.keras.layers import concatenate\n",
        "from tensorflow.keras.layers import Layer,Dropout\n",
        "from keras.models import Sequential, Model\n",
        "from tensorflow.keras.optimizers import Adam\n",
        "from tensorflow.keras.utils import to_categorical\n",
        "from sklearn.preprocessing import MinMaxScaler, LabelEncoder\n",
        "%matplotlib inline\n"
      ]
    },
    {
      "cell_type": "code",
      "source": [
        "from google.colab import drive\n",
        "drive.mount('/content/drive')"
      ],
      "metadata": {
        "id": "20-J0wwszZ7G",
        "outputId": "2a8f0b64-5984-40de-8e87-80a03905faf0",
        "colab": {
          "base_uri": "https://localhost:8080/"
        }
      },
      "execution_count": 173,
      "outputs": [
        {
          "output_type": "stream",
          "name": "stdout",
          "text": [
            "Drive already mounted at /content/drive; to attempt to forcibly remount, call drive.mount(\"/content/drive\", force_remount=True).\n"
          ]
        }
      ]
    },
    {
      "cell_type": "markdown",
      "source": [
        "**Import Dataset using mount**"
      ],
      "metadata": {
        "id": "lqBiZ-OvBq7J"
      }
    },
    {
      "cell_type": "code",
      "source": [
        "Bank_Data = pd.read_csv('/content/UniversalBank.csv',delimiter=',')\n",
        "print(Bank_Data)"
      ],
      "metadata": {
        "colab": {
          "base_uri": "https://localhost:8080/"
        },
        "id": "2NQE7XuZ0Y-n",
        "outputId": "95ca38bb-6ffd-45cc-9f7a-bcf41f228ea9"
      },
      "execution_count": 174,
      "outputs": [
        {
          "output_type": "stream",
          "name": "stdout",
          "text": [
            "        ID  Age  Experience  Income  ZIP Code  Family  CCAvg  Education  \\\n",
            "0        1   25           1      49     91107       4    1.6          1   \n",
            "1        2   45          19      34     90089       3    1.5          1   \n",
            "2        3   39          15      11     94720       1    1.0          1   \n",
            "3        4   35           9     100     94112       1    2.7          2   \n",
            "4        5   35           8      45     91330       4    1.0          2   \n",
            "...    ...  ...         ...     ...       ...     ...    ...        ...   \n",
            "4995  4996   29           3      40     92697       1    1.9          3   \n",
            "4996  4997   30           4      15     92037       4    0.4          1   \n",
            "4997  4998   63          39      24     93023       2    0.3          3   \n",
            "4998  4999   65          40      49     90034       3    0.5          2   \n",
            "4999  5000   28           4      83     92612       3    0.8          1   \n",
            "\n",
            "      Mortgage  Personal Loan  Securities Account  CD Account  Online  \\\n",
            "0            0              0                   1           0       0   \n",
            "1            0              0                   1           0       0   \n",
            "2            0              0                   0           0       0   \n",
            "3            0              0                   0           0       0   \n",
            "4            0              0                   0           0       0   \n",
            "...        ...            ...                 ...         ...     ...   \n",
            "4995         0              0                   0           0       1   \n",
            "4996        85              0                   0           0       1   \n",
            "4997         0              0                   0           0       0   \n",
            "4998         0              0                   0           0       1   \n",
            "4999         0              0                   0           0       1   \n",
            "\n",
            "      CreditCard  \n",
            "0              0  \n",
            "1              0  \n",
            "2              0  \n",
            "3              0  \n",
            "4              1  \n",
            "...          ...  \n",
            "4995           0  \n",
            "4996           0  \n",
            "4997           0  \n",
            "4998           0  \n",
            "4999           1  \n",
            "\n",
            "[5000 rows x 14 columns]\n"
          ]
        }
      ]
    },
    {
      "cell_type": "markdown",
      "source": [
        "**Shift Personal Loan to the last column**"
      ],
      "metadata": {
        "id": "JTBwFbpvDnwA"
      }
    },
    {
      "cell_type": "code",
      "source": [
        "shiftPos = Bank_Data.pop(\"Personal Loan\")\n",
        "Bank_Data.insert(13, \"Personal Loan\", shiftPos)\n",
        "print(Bank_Data)"
      ],
      "metadata": {
        "colab": {
          "base_uri": "https://localhost:8080/"
        },
        "id": "q9DcB9Ds2aeK",
        "outputId": "4a007054-9284-4abf-e800-d94b728bb222"
      },
      "execution_count": 175,
      "outputs": [
        {
          "output_type": "stream",
          "name": "stdout",
          "text": [
            "        ID  Age  Experience  Income  ZIP Code  Family  CCAvg  Education  \\\n",
            "0        1   25           1      49     91107       4    1.6          1   \n",
            "1        2   45          19      34     90089       3    1.5          1   \n",
            "2        3   39          15      11     94720       1    1.0          1   \n",
            "3        4   35           9     100     94112       1    2.7          2   \n",
            "4        5   35           8      45     91330       4    1.0          2   \n",
            "...    ...  ...         ...     ...       ...     ...    ...        ...   \n",
            "4995  4996   29           3      40     92697       1    1.9          3   \n",
            "4996  4997   30           4      15     92037       4    0.4          1   \n",
            "4997  4998   63          39      24     93023       2    0.3          3   \n",
            "4998  4999   65          40      49     90034       3    0.5          2   \n",
            "4999  5000   28           4      83     92612       3    0.8          1   \n",
            "\n",
            "      Mortgage  Securities Account  CD Account  Online  CreditCard  \\\n",
            "0            0                   1           0       0           0   \n",
            "1            0                   1           0       0           0   \n",
            "2            0                   0           0       0           0   \n",
            "3            0                   0           0       0           0   \n",
            "4            0                   0           0       0           1   \n",
            "...        ...                 ...         ...     ...         ...   \n",
            "4995         0                   0           0       1           0   \n",
            "4996        85                   0           0       1           0   \n",
            "4997         0                   0           0       0           0   \n",
            "4998         0                   0           0       1           0   \n",
            "4999         0                   0           0       1           1   \n",
            "\n",
            "      Personal Loan  \n",
            "0                 0  \n",
            "1                 0  \n",
            "2                 0  \n",
            "3                 0  \n",
            "4                 0  \n",
            "...             ...  \n",
            "4995              0  \n",
            "4996              0  \n",
            "4997              0  \n",
            "4998              0  \n",
            "4999              0  \n",
            "\n",
            "[5000 rows x 14 columns]\n"
          ]
        }
      ]
    },
    {
      "cell_type": "markdown",
      "source": [
        "**Understanding data**"
      ],
      "metadata": {
        "id": "MzFK7mNdF6XK"
      }
    },
    {
      "cell_type": "code",
      "source": [
        "Bank_Data.info()"
      ],
      "metadata": {
        "colab": {
          "base_uri": "https://localhost:8080/"
        },
        "id": "q-NgWMjh0qSq",
        "outputId": "b6e81573-9c1f-42dc-e3f4-403fd8fb8f81"
      },
      "execution_count": 176,
      "outputs": [
        {
          "output_type": "stream",
          "name": "stdout",
          "text": [
            "<class 'pandas.core.frame.DataFrame'>\n",
            "RangeIndex: 5000 entries, 0 to 4999\n",
            "Data columns (total 14 columns):\n",
            " #   Column              Non-Null Count  Dtype  \n",
            "---  ------              --------------  -----  \n",
            " 0   ID                  5000 non-null   int64  \n",
            " 1   Age                 5000 non-null   int64  \n",
            " 2   Experience          5000 non-null   int64  \n",
            " 3   Income              5000 non-null   int64  \n",
            " 4   ZIP Code            5000 non-null   int64  \n",
            " 5   Family              5000 non-null   int64  \n",
            " 6   CCAvg               5000 non-null   float64\n",
            " 7   Education           5000 non-null   int64  \n",
            " 8   Mortgage            5000 non-null   int64  \n",
            " 9   Securities Account  5000 non-null   int64  \n",
            " 10  CD Account          5000 non-null   int64  \n",
            " 11  Online              5000 non-null   int64  \n",
            " 12  CreditCard          5000 non-null   int64  \n",
            " 13  Personal Loan       5000 non-null   int64  \n",
            "dtypes: float64(1), int64(13)\n",
            "memory usage: 547.0 KB\n"
          ]
        }
      ]
    },
    {
      "cell_type": "markdown",
      "source": [
        "**Remove ID,ZIP Code columns from the dataset**"
      ],
      "metadata": {
        "id": "iLhIKxo8Hrpu"
      }
    },
    {
      "cell_type": "code",
      "source": [
        "BD=Bank_Data.drop(['ID', 'ZIP Code'],axis=1)\n",
        "print(BD)\n",
        ""
      ],
      "metadata": {
        "colab": {
          "base_uri": "https://localhost:8080/"
        },
        "id": "S9bzxVhr0q00",
        "outputId": "e7daae9a-108a-4377-cd3a-ad7ba40b5246"
      },
      "execution_count": 177,
      "outputs": [
        {
          "output_type": "stream",
          "name": "stdout",
          "text": [
            "      Age  Experience  Income  Family  CCAvg  Education  Mortgage  \\\n",
            "0      25           1      49       4    1.6          1         0   \n",
            "1      45          19      34       3    1.5          1         0   \n",
            "2      39          15      11       1    1.0          1         0   \n",
            "3      35           9     100       1    2.7          2         0   \n",
            "4      35           8      45       4    1.0          2         0   \n",
            "...   ...         ...     ...     ...    ...        ...       ...   \n",
            "4995   29           3      40       1    1.9          3         0   \n",
            "4996   30           4      15       4    0.4          1        85   \n",
            "4997   63          39      24       2    0.3          3         0   \n",
            "4998   65          40      49       3    0.5          2         0   \n",
            "4999   28           4      83       3    0.8          1         0   \n",
            "\n",
            "      Securities Account  CD Account  Online  CreditCard  Personal Loan  \n",
            "0                      1           0       0           0              0  \n",
            "1                      1           0       0           0              0  \n",
            "2                      0           0       0           0              0  \n",
            "3                      0           0       0           0              0  \n",
            "4                      0           0       0           1              0  \n",
            "...                  ...         ...     ...         ...            ...  \n",
            "4995                   0           0       1           0              0  \n",
            "4996                   0           0       1           0              0  \n",
            "4997                   0           0       0           0              0  \n",
            "4998                   0           0       1           0              0  \n",
            "4999                   0           0       1           1              0  \n",
            "\n",
            "[5000 rows x 12 columns]\n"
          ]
        }
      ]
    },
    {
      "cell_type": "markdown",
      "source": [
        "**To check null values**"
      ],
      "metadata": {
        "id": "e26Hbx6PH-oC"
      }
    },
    {
      "cell_type": "code",
      "source": [
        "print(BD.isnull().sum())\n",
        "#no null values"
      ],
      "metadata": {
        "colab": {
          "base_uri": "https://localhost:8080/"
        },
        "id": "D3Sr_3mS0rX9",
        "outputId": "6d061547-5167-41a7-aee8-12b2f78f353d"
      },
      "execution_count": 178,
      "outputs": [
        {
          "output_type": "stream",
          "name": "stdout",
          "text": [
            "Age                   0\n",
            "Experience            0\n",
            "Income                0\n",
            "Family                0\n",
            "CCAvg                 0\n",
            "Education             0\n",
            "Mortgage              0\n",
            "Securities Account    0\n",
            "CD Account            0\n",
            "Online                0\n",
            "CreditCard            0\n",
            "Personal Loan         0\n",
            "dtype: int64\n"
          ]
        }
      ]
    },
    {
      "cell_type": "markdown",
      "source": [
        "**Create Dummy Variables**"
      ],
      "metadata": {
        "id": "V48krwLLIHa7"
      }
    },
    {
      "cell_type": "code",
      "source": [
        "# importing the libraries\n",
        "Bank_Data  = BD.copy()\n",
        "Bank_Data = pd.get_dummies(Bank_Data,columns = ['Education'])\n",
        "#convert categorical variables to dummy variables\n",
        "display(Bank_Data.head())"
      ],
      "metadata": {
        "colab": {
          "base_uri": "https://localhost:8080/",
          "height": 223
        },
        "id": "NIaDlkX02aGB",
        "outputId": "80a69669-d9b9-46a5-ef5f-f12316b017cf"
      },
      "execution_count": 179,
      "outputs": [
        {
          "output_type": "display_data",
          "data": {
            "text/plain": [
              "   Age  Experience  Income  Family  CCAvg  Mortgage  Securities Account  \\\n",
              "0   25           1      49       4    1.6         0                   1   \n",
              "1   45          19      34       3    1.5         0                   1   \n",
              "2   39          15      11       1    1.0         0                   0   \n",
              "3   35           9     100       1    2.7         0                   0   \n",
              "4   35           8      45       4    1.0         0                   0   \n",
              "\n",
              "   CD Account  Online  CreditCard  Personal Loan  Education_1  Education_2  \\\n",
              "0           0       0           0              0            1            0   \n",
              "1           0       0           0              0            1            0   \n",
              "2           0       0           0              0            1            0   \n",
              "3           0       0           0              0            0            1   \n",
              "4           0       0           1              0            0            1   \n",
              "\n",
              "   Education_3  \n",
              "0            0  \n",
              "1            0  \n",
              "2            0  \n",
              "3            0  \n",
              "4            0  "
            ],
            "text/html": [
              "\n",
              "  <div id=\"df-df758564-3beb-4aef-b1f9-747cb4335680\" class=\"colab-df-container\">\n",
              "    <div>\n",
              "<style scoped>\n",
              "    .dataframe tbody tr th:only-of-type {\n",
              "        vertical-align: middle;\n",
              "    }\n",
              "\n",
              "    .dataframe tbody tr th {\n",
              "        vertical-align: top;\n",
              "    }\n",
              "\n",
              "    .dataframe thead th {\n",
              "        text-align: right;\n",
              "    }\n",
              "</style>\n",
              "<table border=\"1\" class=\"dataframe\">\n",
              "  <thead>\n",
              "    <tr style=\"text-align: right;\">\n",
              "      <th></th>\n",
              "      <th>Age</th>\n",
              "      <th>Experience</th>\n",
              "      <th>Income</th>\n",
              "      <th>Family</th>\n",
              "      <th>CCAvg</th>\n",
              "      <th>Mortgage</th>\n",
              "      <th>Securities Account</th>\n",
              "      <th>CD Account</th>\n",
              "      <th>Online</th>\n",
              "      <th>CreditCard</th>\n",
              "      <th>Personal Loan</th>\n",
              "      <th>Education_1</th>\n",
              "      <th>Education_2</th>\n",
              "      <th>Education_3</th>\n",
              "    </tr>\n",
              "  </thead>\n",
              "  <tbody>\n",
              "    <tr>\n",
              "      <th>0</th>\n",
              "      <td>25</td>\n",
              "      <td>1</td>\n",
              "      <td>49</td>\n",
              "      <td>4</td>\n",
              "      <td>1.6</td>\n",
              "      <td>0</td>\n",
              "      <td>1</td>\n",
              "      <td>0</td>\n",
              "      <td>0</td>\n",
              "      <td>0</td>\n",
              "      <td>0</td>\n",
              "      <td>1</td>\n",
              "      <td>0</td>\n",
              "      <td>0</td>\n",
              "    </tr>\n",
              "    <tr>\n",
              "      <th>1</th>\n",
              "      <td>45</td>\n",
              "      <td>19</td>\n",
              "      <td>34</td>\n",
              "      <td>3</td>\n",
              "      <td>1.5</td>\n",
              "      <td>0</td>\n",
              "      <td>1</td>\n",
              "      <td>0</td>\n",
              "      <td>0</td>\n",
              "      <td>0</td>\n",
              "      <td>0</td>\n",
              "      <td>1</td>\n",
              "      <td>0</td>\n",
              "      <td>0</td>\n",
              "    </tr>\n",
              "    <tr>\n",
              "      <th>2</th>\n",
              "      <td>39</td>\n",
              "      <td>15</td>\n",
              "      <td>11</td>\n",
              "      <td>1</td>\n",
              "      <td>1.0</td>\n",
              "      <td>0</td>\n",
              "      <td>0</td>\n",
              "      <td>0</td>\n",
              "      <td>0</td>\n",
              "      <td>0</td>\n",
              "      <td>0</td>\n",
              "      <td>1</td>\n",
              "      <td>0</td>\n",
              "      <td>0</td>\n",
              "    </tr>\n",
              "    <tr>\n",
              "      <th>3</th>\n",
              "      <td>35</td>\n",
              "      <td>9</td>\n",
              "      <td>100</td>\n",
              "      <td>1</td>\n",
              "      <td>2.7</td>\n",
              "      <td>0</td>\n",
              "      <td>0</td>\n",
              "      <td>0</td>\n",
              "      <td>0</td>\n",
              "      <td>0</td>\n",
              "      <td>0</td>\n",
              "      <td>0</td>\n",
              "      <td>1</td>\n",
              "      <td>0</td>\n",
              "    </tr>\n",
              "    <tr>\n",
              "      <th>4</th>\n",
              "      <td>35</td>\n",
              "      <td>8</td>\n",
              "      <td>45</td>\n",
              "      <td>4</td>\n",
              "      <td>1.0</td>\n",
              "      <td>0</td>\n",
              "      <td>0</td>\n",
              "      <td>0</td>\n",
              "      <td>0</td>\n",
              "      <td>1</td>\n",
              "      <td>0</td>\n",
              "      <td>0</td>\n",
              "      <td>1</td>\n",
              "      <td>0</td>\n",
              "    </tr>\n",
              "  </tbody>\n",
              "</table>\n",
              "</div>\n",
              "    <div class=\"colab-df-buttons\">\n",
              "\n",
              "  <div class=\"colab-df-container\">\n",
              "    <button class=\"colab-df-convert\" onclick=\"convertToInteractive('df-df758564-3beb-4aef-b1f9-747cb4335680')\"\n",
              "            title=\"Convert this dataframe to an interactive table.\"\n",
              "            style=\"display:none;\">\n",
              "\n",
              "  <svg xmlns=\"http://www.w3.org/2000/svg\" height=\"24px\" viewBox=\"0 -960 960 960\">\n",
              "    <path d=\"M120-120v-720h720v720H120Zm60-500h600v-160H180v160Zm220 220h160v-160H400v160Zm0 220h160v-160H400v160ZM180-400h160v-160H180v160Zm440 0h160v-160H620v160ZM180-180h160v-160H180v160Zm440 0h160v-160H620v160Z\"/>\n",
              "  </svg>\n",
              "    </button>\n",
              "\n",
              "  <style>\n",
              "    .colab-df-container {\n",
              "      display:flex;\n",
              "      gap: 12px;\n",
              "    }\n",
              "\n",
              "    .colab-df-convert {\n",
              "      background-color: #E8F0FE;\n",
              "      border: none;\n",
              "      border-radius: 50%;\n",
              "      cursor: pointer;\n",
              "      display: none;\n",
              "      fill: #1967D2;\n",
              "      height: 32px;\n",
              "      padding: 0 0 0 0;\n",
              "      width: 32px;\n",
              "    }\n",
              "\n",
              "    .colab-df-convert:hover {\n",
              "      background-color: #E2EBFA;\n",
              "      box-shadow: 0px 1px 2px rgba(60, 64, 67, 0.3), 0px 1px 3px 1px rgba(60, 64, 67, 0.15);\n",
              "      fill: #174EA6;\n",
              "    }\n",
              "\n",
              "    .colab-df-buttons div {\n",
              "      margin-bottom: 4px;\n",
              "    }\n",
              "\n",
              "    [theme=dark] .colab-df-convert {\n",
              "      background-color: #3B4455;\n",
              "      fill: #D2E3FC;\n",
              "    }\n",
              "\n",
              "    [theme=dark] .colab-df-convert:hover {\n",
              "      background-color: #434B5C;\n",
              "      box-shadow: 0px 1px 3px 1px rgba(0, 0, 0, 0.15);\n",
              "      filter: drop-shadow(0px 1px 2px rgba(0, 0, 0, 0.3));\n",
              "      fill: #FFFFFF;\n",
              "    }\n",
              "  </style>\n",
              "\n",
              "    <script>\n",
              "      const buttonEl =\n",
              "        document.querySelector('#df-df758564-3beb-4aef-b1f9-747cb4335680 button.colab-df-convert');\n",
              "      buttonEl.style.display =\n",
              "        google.colab.kernel.accessAllowed ? 'block' : 'none';\n",
              "\n",
              "      async function convertToInteractive(key) {\n",
              "        const element = document.querySelector('#df-df758564-3beb-4aef-b1f9-747cb4335680');\n",
              "        const dataTable =\n",
              "          await google.colab.kernel.invokeFunction('convertToInteractive',\n",
              "                                                    [key], {});\n",
              "        if (!dataTable) return;\n",
              "\n",
              "        const docLinkHtml = 'Like what you see? Visit the ' +\n",
              "          '<a target=\"_blank\" href=https://colab.research.google.com/notebooks/data_table.ipynb>data table notebook</a>'\n",
              "          + ' to learn more about interactive tables.';\n",
              "        element.innerHTML = '';\n",
              "        dataTable['output_type'] = 'display_data';\n",
              "        await google.colab.output.renderOutput(dataTable, element);\n",
              "        const docLink = document.createElement('div');\n",
              "        docLink.innerHTML = docLinkHtml;\n",
              "        element.appendChild(docLink);\n",
              "      }\n",
              "    </script>\n",
              "  </div>\n",
              "\n",
              "\n",
              "<div id=\"df-070fe129-469b-4b6a-8136-0225cc2b72d4\">\n",
              "  <button class=\"colab-df-quickchart\" onclick=\"quickchart('df-070fe129-469b-4b6a-8136-0225cc2b72d4')\"\n",
              "            title=\"Suggest charts.\"\n",
              "            style=\"display:none;\">\n",
              "\n",
              "<svg xmlns=\"http://www.w3.org/2000/svg\" height=\"24px\"viewBox=\"0 0 24 24\"\n",
              "     width=\"24px\">\n",
              "    <g>\n",
              "        <path d=\"M19 3H5c-1.1 0-2 .9-2 2v14c0 1.1.9 2 2 2h14c1.1 0 2-.9 2-2V5c0-1.1-.9-2-2-2zM9 17H7v-7h2v7zm4 0h-2V7h2v10zm4 0h-2v-4h2v4z\"/>\n",
              "    </g>\n",
              "</svg>\n",
              "  </button>\n",
              "\n",
              "<style>\n",
              "  .colab-df-quickchart {\n",
              "      --bg-color: #E8F0FE;\n",
              "      --fill-color: #1967D2;\n",
              "      --hover-bg-color: #E2EBFA;\n",
              "      --hover-fill-color: #174EA6;\n",
              "      --disabled-fill-color: #AAA;\n",
              "      --disabled-bg-color: #DDD;\n",
              "  }\n",
              "\n",
              "  [theme=dark] .colab-df-quickchart {\n",
              "      --bg-color: #3B4455;\n",
              "      --fill-color: #D2E3FC;\n",
              "      --hover-bg-color: #434B5C;\n",
              "      --hover-fill-color: #FFFFFF;\n",
              "      --disabled-bg-color: #3B4455;\n",
              "      --disabled-fill-color: #666;\n",
              "  }\n",
              "\n",
              "  .colab-df-quickchart {\n",
              "    background-color: var(--bg-color);\n",
              "    border: none;\n",
              "    border-radius: 50%;\n",
              "    cursor: pointer;\n",
              "    display: none;\n",
              "    fill: var(--fill-color);\n",
              "    height: 32px;\n",
              "    padding: 0;\n",
              "    width: 32px;\n",
              "  }\n",
              "\n",
              "  .colab-df-quickchart:hover {\n",
              "    background-color: var(--hover-bg-color);\n",
              "    box-shadow: 0 1px 2px rgba(60, 64, 67, 0.3), 0 1px 3px 1px rgba(60, 64, 67, 0.15);\n",
              "    fill: var(--button-hover-fill-color);\n",
              "  }\n",
              "\n",
              "  .colab-df-quickchart-complete:disabled,\n",
              "  .colab-df-quickchart-complete:disabled:hover {\n",
              "    background-color: var(--disabled-bg-color);\n",
              "    fill: var(--disabled-fill-color);\n",
              "    box-shadow: none;\n",
              "  }\n",
              "\n",
              "  .colab-df-spinner {\n",
              "    border: 2px solid var(--fill-color);\n",
              "    border-color: transparent;\n",
              "    border-bottom-color: var(--fill-color);\n",
              "    animation:\n",
              "      spin 1s steps(1) infinite;\n",
              "  }\n",
              "\n",
              "  @keyframes spin {\n",
              "    0% {\n",
              "      border-color: transparent;\n",
              "      border-bottom-color: var(--fill-color);\n",
              "      border-left-color: var(--fill-color);\n",
              "    }\n",
              "    20% {\n",
              "      border-color: transparent;\n",
              "      border-left-color: var(--fill-color);\n",
              "      border-top-color: var(--fill-color);\n",
              "    }\n",
              "    30% {\n",
              "      border-color: transparent;\n",
              "      border-left-color: var(--fill-color);\n",
              "      border-top-color: var(--fill-color);\n",
              "      border-right-color: var(--fill-color);\n",
              "    }\n",
              "    40% {\n",
              "      border-color: transparent;\n",
              "      border-right-color: var(--fill-color);\n",
              "      border-top-color: var(--fill-color);\n",
              "    }\n",
              "    60% {\n",
              "      border-color: transparent;\n",
              "      border-right-color: var(--fill-color);\n",
              "    }\n",
              "    80% {\n",
              "      border-color: transparent;\n",
              "      border-right-color: var(--fill-color);\n",
              "      border-bottom-color: var(--fill-color);\n",
              "    }\n",
              "    90% {\n",
              "      border-color: transparent;\n",
              "      border-bottom-color: var(--fill-color);\n",
              "    }\n",
              "  }\n",
              "</style>\n",
              "\n",
              "  <script>\n",
              "    async function quickchart(key) {\n",
              "      const quickchartButtonEl =\n",
              "        document.querySelector('#' + key + ' button');\n",
              "      quickchartButtonEl.disabled = true;  // To prevent multiple clicks.\n",
              "      quickchartButtonEl.classList.add('colab-df-spinner');\n",
              "      try {\n",
              "        const charts = await google.colab.kernel.invokeFunction(\n",
              "            'suggestCharts', [key], {});\n",
              "      } catch (error) {\n",
              "        console.error('Error during call to suggestCharts:', error);\n",
              "      }\n",
              "      quickchartButtonEl.classList.remove('colab-df-spinner');\n",
              "      quickchartButtonEl.classList.add('colab-df-quickchart-complete');\n",
              "    }\n",
              "    (() => {\n",
              "      let quickchartButtonEl =\n",
              "        document.querySelector('#df-070fe129-469b-4b6a-8136-0225cc2b72d4 button');\n",
              "      quickchartButtonEl.style.display =\n",
              "        google.colab.kernel.accessAllowed ? 'block' : 'none';\n",
              "    })();\n",
              "  </script>\n",
              "</div>\n",
              "    </div>\n",
              "  </div>\n"
            ]
          },
          "metadata": {}
        }
      ]
    },
    {
      "cell_type": "markdown",
      "source": [
        "**Shift Personal Loan column to the last position**"
      ],
      "metadata": {
        "id": "M7u2BUTFJRi8"
      }
    },
    {
      "cell_type": "code",
      "source": [
        "shiftPos = Bank_Data.pop(\"Personal Loan\")\n",
        "Bank_Data.insert(13, \"Personal Loan\", shiftPos)\n",
        "print(Bank_Data)"
      ],
      "metadata": {
        "colab": {
          "base_uri": "https://localhost:8080/"
        },
        "id": "XGY8nn5QIoRU",
        "outputId": "a3dc4cc8-0a30-4788-bbad-8628d330f0a1"
      },
      "execution_count": 180,
      "outputs": [
        {
          "output_type": "stream",
          "name": "stdout",
          "text": [
            "      Age  Experience  Income  Family  CCAvg  Mortgage  Securities Account  \\\n",
            "0      25           1      49       4    1.6         0                   1   \n",
            "1      45          19      34       3    1.5         0                   1   \n",
            "2      39          15      11       1    1.0         0                   0   \n",
            "3      35           9     100       1    2.7         0                   0   \n",
            "4      35           8      45       4    1.0         0                   0   \n",
            "...   ...         ...     ...     ...    ...       ...                 ...   \n",
            "4995   29           3      40       1    1.9         0                   0   \n",
            "4996   30           4      15       4    0.4        85                   0   \n",
            "4997   63          39      24       2    0.3         0                   0   \n",
            "4998   65          40      49       3    0.5         0                   0   \n",
            "4999   28           4      83       3    0.8         0                   0   \n",
            "\n",
            "      CD Account  Online  CreditCard  Education_1  Education_2  Education_3  \\\n",
            "0              0       0           0            1            0            0   \n",
            "1              0       0           0            1            0            0   \n",
            "2              0       0           0            1            0            0   \n",
            "3              0       0           0            0            1            0   \n",
            "4              0       0           1            0            1            0   \n",
            "...          ...     ...         ...          ...          ...          ...   \n",
            "4995           0       1           0            0            0            1   \n",
            "4996           0       1           0            1            0            0   \n",
            "4997           0       0           0            0            0            1   \n",
            "4998           0       1           0            0            1            0   \n",
            "4999           0       1           1            1            0            0   \n",
            "\n",
            "      Personal Loan  \n",
            "0                 0  \n",
            "1                 0  \n",
            "2                 0  \n",
            "3                 0  \n",
            "4                 0  \n",
            "...             ...  \n",
            "4995              0  \n",
            "4996              0  \n",
            "4997              0  \n",
            "4998              0  \n",
            "4999              0  \n",
            "\n",
            "[5000 rows x 14 columns]\n"
          ]
        }
      ]
    },
    {
      "cell_type": "markdown",
      "source": [
        "Correlation matrix to see how each of the data columns are closely related to the target variable"
      ],
      "metadata": {
        "id": "Rg1YSaPiJjCe"
      }
    },
    {
      "cell_type": "code",
      "source": [
        "correlation_matrix = Bank_Data.corr()\n",
        "correlation_matrix[\"Personal Loan\"]\n",
        ""
      ],
      "metadata": {
        "colab": {
          "base_uri": "https://localhost:8080/"
        },
        "id": "w6F55zhc2a2i",
        "outputId": "71460012-e550-4755-dd0e-ae87bee785c9"
      },
      "execution_count": 181,
      "outputs": [
        {
          "output_type": "execute_result",
          "data": {
            "text/plain": [
              "Age                  -0.007726\n",
              "Experience           -0.007413\n",
              "Income                0.502462\n",
              "Family                0.061367\n",
              "CCAvg                 0.366889\n",
              "Mortgage              0.142095\n",
              "Securities Account    0.021954\n",
              "CD Account            0.316355\n",
              "Online                0.006278\n",
              "CreditCard            0.002802\n",
              "Education_1          -0.148894\n",
              "Education_2           0.071491\n",
              "Education_3           0.090212\n",
              "Personal Loan         1.000000\n",
              "Name: Personal Loan, dtype: float64"
            ]
          },
          "metadata": {},
          "execution_count": 181
        }
      ]
    },
    {
      "cell_type": "markdown",
      "source": [
        "Create a seperate dataset for the training data except the target column,and a seperate dataset only with target column"
      ],
      "metadata": {
        "id": "lJgInGUDJpEZ"
      }
    },
    {
      "cell_type": "code",
      "source": [
        "X = Bank_Data.drop(\"Personal Loan\", axis=1)\n",
        "X = X.values #independent var\n",
        "y = Bank_Data[\"Personal Loan\"]\n",
        "y = y.values #dependent var"
      ],
      "metadata": {
        "id": "rYGpyZ2Y2bNz"
      },
      "execution_count": 182,
      "outputs": []
    },
    {
      "cell_type": "markdown",
      "source": [
        "**split the data into train(60%) and validation(40%)**"
      ],
      "metadata": {
        "id": "YSrK-eOL26mD"
      }
    },
    {
      "cell_type": "code",
      "source": [
        "\n",
        "from sklearn.model_selection import train_test_split\n",
        "X_train, X_test, y_train, y_test = train_test_split(\n",
        "X, y, test_size=0.4, random_state=101)\n",
        ""
      ],
      "metadata": {
        "id": "U4bdIGDN2bmj"
      },
      "execution_count": 183,
      "outputs": []
    },
    {
      "cell_type": "code",
      "source": [
        "from sklearn.neighbors import KNeighborsRegressor\n",
        "knn_model = KNeighborsRegressor(n_neighbors=5)"
      ],
      "metadata": {
        "id": "zuPIrzdv29I7"
      },
      "execution_count": 184,
      "outputs": []
    },
    {
      "cell_type": "code",
      "source": [
        "new_data_point = np.array([40,10,84,2,2,0,0,0,1,1,0,1,0])"
      ],
      "metadata": {
        "id": "TGvul6pE2cmW"
      },
      "execution_count": 185,
      "outputs": []
    },
    {
      "cell_type": "code",
      "source": [
        "distances = np.linalg.norm(X - new_data_point, axis=1)"
      ],
      "metadata": {
        "id": "x96VkDmX2dC_"
      },
      "execution_count": 186,
      "outputs": []
    },
    {
      "cell_type": "code",
      "source": [
        "from sklearn import preprocessing\n",
        "import numpy as np\n",
        "x_array = np.array([40,10,84,2,2,0,0,0,1,1,0,1,0])\n",
        "normalized_arr = preprocessing.normalize([x_array])\n",
        "print(normalized_arr)"
      ],
      "metadata": {
        "colab": {
          "base_uri": "https://localhost:8080/"
        },
        "id": "DL_GciIl3JTP",
        "outputId": "3d1e6765-26a9-44ef-842e-9b1a4764ed65"
      },
      "execution_count": 187,
      "outputs": [
        {
          "output_type": "stream",
          "name": "stdout",
          "text": [
            "[[0.42720319 0.1068008  0.8971267  0.02136016 0.02136016 0.\n",
            "  0.         0.         0.01068008 0.01068008 0.         0.01068008\n",
            "  0.        ]]\n"
          ]
        }
      ]
    },
    {
      "cell_type": "code",
      "source": [
        "k = 35\n",
        "nearest_neighbor_ids = distances.argsort()[:k]\n",
        "nearest_neighbor_ids"
      ],
      "metadata": {
        "colab": {
          "base_uri": "https://localhost:8080/"
        },
        "id": "Qvj_B3xL3JP1",
        "outputId": "f2d32f61-9ad8-4d2b-bb75-3e67ba5a481a"
      },
      "execution_count": 188,
      "outputs": [
        {
          "output_type": "execute_result",
          "data": {
            "text/plain": [
              "array([ 700, 2827, 4926, 3393, 2786, 4615, 2086, 4771, 2640, 2301, 4624,\n",
              "       4335,  123, 2306,  766, 1976, 4034,  487, 4296, 3756, 3272,  416,\n",
              "       1401, 3152, 4495, 4487,  542, 4588, 4202,  529, 1598, 1416, 3211,\n",
              "        738, 1526])"
            ]
          },
          "metadata": {},
          "execution_count": 188
        }
      ]
    },
    {
      "cell_type": "code",
      "source": [
        "nearest_neighbor_Personal_Loan = y[nearest_neighbor_ids]\n",
        "nearest_neighbor_Personal_Loan\n",
        ""
      ],
      "metadata": {
        "colab": {
          "base_uri": "https://localhost:8080/"
        },
        "id": "xugv8DbX3JMv",
        "outputId": "d2c76136-bee0-499d-f866-0abf070f2b13"
      },
      "execution_count": 189,
      "outputs": [
        {
          "output_type": "execute_result",
          "data": {
            "text/plain": [
              "array([0, 0, 0, 0, 0, 0, 0, 0, 0, 0, 0, 0, 0, 0, 0, 0, 0, 0, 0, 0, 0, 0,\n",
              "       0, 0, 0, 0, 0, 0, 0, 0, 0, 0, 0, 0, 0])"
            ]
          },
          "metadata": {},
          "execution_count": 189
        }
      ]
    },
    {
      "cell_type": "code",
      "source": [
        "prediction = nearest_neighbor_Personal_Loan.mean()\n",
        "prediction\n",
        "#0 means the loan has been denied"
      ],
      "metadata": {
        "colab": {
          "base_uri": "https://localhost:8080/"
        },
        "id": "r4nV2BtM3JJN",
        "outputId": "1802e3be-4587-45a8-f4bd-3dfb94f89f4a"
      },
      "execution_count": 190,
      "outputs": [
        {
          "output_type": "execute_result",
          "data": {
            "text/plain": [
              "0.0"
            ]
          },
          "metadata": {},
          "execution_count": 190
        }
      ]
    },
    {
      "cell_type": "code",
      "source": [
        "knn_model.fit(X_train, y_train)\n"
      ],
      "metadata": {
        "colab": {
          "base_uri": "https://localhost:8080/",
          "height": 74
        },
        "id": "LIk8bICd3I-K",
        "outputId": "177dea2f-aa6e-4f94-e783-6aff73b2e6d4"
      },
      "execution_count": 191,
      "outputs": [
        {
          "output_type": "execute_result",
          "data": {
            "text/plain": [
              "KNeighborsRegressor()"
            ],
            "text/html": [
              "<style>#sk-container-id-10 {color: black;background-color: white;}#sk-container-id-10 pre{padding: 0;}#sk-container-id-10 div.sk-toggleable {background-color: white;}#sk-container-id-10 label.sk-toggleable__label {cursor: pointer;display: block;width: 100%;margin-bottom: 0;padding: 0.3em;box-sizing: border-box;text-align: center;}#sk-container-id-10 label.sk-toggleable__label-arrow:before {content: \"▸\";float: left;margin-right: 0.25em;color: #696969;}#sk-container-id-10 label.sk-toggleable__label-arrow:hover:before {color: black;}#sk-container-id-10 div.sk-estimator:hover label.sk-toggleable__label-arrow:before {color: black;}#sk-container-id-10 div.sk-toggleable__content {max-height: 0;max-width: 0;overflow: hidden;text-align: left;background-color: #f0f8ff;}#sk-container-id-10 div.sk-toggleable__content pre {margin: 0.2em;color: black;border-radius: 0.25em;background-color: #f0f8ff;}#sk-container-id-10 input.sk-toggleable__control:checked~div.sk-toggleable__content {max-height: 200px;max-width: 100%;overflow: auto;}#sk-container-id-10 input.sk-toggleable__control:checked~label.sk-toggleable__label-arrow:before {content: \"▾\";}#sk-container-id-10 div.sk-estimator input.sk-toggleable__control:checked~label.sk-toggleable__label {background-color: #d4ebff;}#sk-container-id-10 div.sk-label input.sk-toggleable__control:checked~label.sk-toggleable__label {background-color: #d4ebff;}#sk-container-id-10 input.sk-hidden--visually {border: 0;clip: rect(1px 1px 1px 1px);clip: rect(1px, 1px, 1px, 1px);height: 1px;margin: -1px;overflow: hidden;padding: 0;position: absolute;width: 1px;}#sk-container-id-10 div.sk-estimator {font-family: monospace;background-color: #f0f8ff;border: 1px dotted black;border-radius: 0.25em;box-sizing: border-box;margin-bottom: 0.5em;}#sk-container-id-10 div.sk-estimator:hover {background-color: #d4ebff;}#sk-container-id-10 div.sk-parallel-item::after {content: \"\";width: 100%;border-bottom: 1px solid gray;flex-grow: 1;}#sk-container-id-10 div.sk-label:hover label.sk-toggleable__label {background-color: #d4ebff;}#sk-container-id-10 div.sk-serial::before {content: \"\";position: absolute;border-left: 1px solid gray;box-sizing: border-box;top: 0;bottom: 0;left: 50%;z-index: 0;}#sk-container-id-10 div.sk-serial {display: flex;flex-direction: column;align-items: center;background-color: white;padding-right: 0.2em;padding-left: 0.2em;position: relative;}#sk-container-id-10 div.sk-item {position: relative;z-index: 1;}#sk-container-id-10 div.sk-parallel {display: flex;align-items: stretch;justify-content: center;background-color: white;position: relative;}#sk-container-id-10 div.sk-item::before, #sk-container-id-10 div.sk-parallel-item::before {content: \"\";position: absolute;border-left: 1px solid gray;box-sizing: border-box;top: 0;bottom: 0;left: 50%;z-index: -1;}#sk-container-id-10 div.sk-parallel-item {display: flex;flex-direction: column;z-index: 1;position: relative;background-color: white;}#sk-container-id-10 div.sk-parallel-item:first-child::after {align-self: flex-end;width: 50%;}#sk-container-id-10 div.sk-parallel-item:last-child::after {align-self: flex-start;width: 50%;}#sk-container-id-10 div.sk-parallel-item:only-child::after {width: 0;}#sk-container-id-10 div.sk-dashed-wrapped {border: 1px dashed gray;margin: 0 0.4em 0.5em 0.4em;box-sizing: border-box;padding-bottom: 0.4em;background-color: white;}#sk-container-id-10 div.sk-label label {font-family: monospace;font-weight: bold;display: inline-block;line-height: 1.2em;}#sk-container-id-10 div.sk-label-container {text-align: center;}#sk-container-id-10 div.sk-container {/* jupyter's `normalize.less` sets `[hidden] { display: none; }` but bootstrap.min.css set `[hidden] { display: none !important; }` so we also need the `!important` here to be able to override the default hidden behavior on the sphinx rendered scikit-learn.org. See: https://github.com/scikit-learn/scikit-learn/issues/21755 */display: inline-block !important;position: relative;}#sk-container-id-10 div.sk-text-repr-fallback {display: none;}</style><div id=\"sk-container-id-10\" class=\"sk-top-container\"><div class=\"sk-text-repr-fallback\"><pre>KNeighborsRegressor()</pre><b>In a Jupyter environment, please rerun this cell to show the HTML representation or trust the notebook. <br />On GitHub, the HTML representation is unable to render, please try loading this page with nbviewer.org.</b></div><div class=\"sk-container\" hidden><div class=\"sk-item\"><div class=\"sk-estimator sk-toggleable\"><input class=\"sk-toggleable__control sk-hidden--visually\" id=\"sk-estimator-id-10\" type=\"checkbox\" checked><label for=\"sk-estimator-id-10\" class=\"sk-toggleable__label sk-toggleable__label-arrow\">KNeighborsRegressor</label><div class=\"sk-toggleable__content\"><pre>KNeighborsRegressor()</pre></div></div></div></div></div>"
            ]
          },
          "metadata": {},
          "execution_count": 191
        }
      ]
    },
    {
      "cell_type": "code",
      "source": [
        "# Train a classifier for different values of k\n",
        "from sklearn.neighbors import KNeighborsClassifier\n",
        "from sklearn import metrics\n",
        "from sklearn.metrics import accuracy_score\n",
        "results = []\n",
        "for k in range(1, 50):\n",
        "    knn = KNeighborsClassifier(n_neighbors=k).fit(X_train, y_train)\n",
        "    results.append({\n",
        "        'k': k,\n",
        "        'accuracy': accuracy_score(y_test, knn.predict(X_test))\n",
        "    })\n",
        "\n",
        "# Convert results to a pandas data frame\n",
        "results = pd.DataFrame(results)\n",
        "print(results)\n",
        "#worst value of k is 1"
      ],
      "metadata": {
        "colab": {
          "base_uri": "https://localhost:8080/"
        },
        "id": "b8Rcjb-93Is8",
        "outputId": "d5e6ae82-345d-4b30-9d72-225279f2c124"
      },
      "execution_count": 192,
      "outputs": [
        {
          "output_type": "stream",
          "name": "stdout",
          "text": [
            "     k  accuracy\n",
            "0    1    0.8980\n",
            "1    2    0.9085\n",
            "2    3    0.8955\n",
            "3    4    0.9015\n",
            "4    5    0.8985\n",
            "5    6    0.9070\n",
            "6    7    0.9000\n",
            "7    8    0.9015\n",
            "8    9    0.8985\n",
            "9   10    0.9075\n",
            "10  11    0.9035\n",
            "11  12    0.9105\n",
            "12  13    0.9100\n",
            "13  14    0.9095\n",
            "14  15    0.9080\n",
            "15  16    0.9085\n",
            "16  17    0.9095\n",
            "17  18    0.9075\n",
            "18  19    0.9090\n",
            "19  20    0.9060\n",
            "20  21    0.9050\n",
            "21  22    0.9050\n",
            "22  23    0.9085\n",
            "23  24    0.9090\n",
            "24  25    0.9125\n",
            "25  26    0.9120\n",
            "26  27    0.9120\n",
            "27  28    0.9080\n",
            "28  29    0.9095\n",
            "29  30    0.9085\n",
            "30  31    0.9095\n",
            "31  32    0.9070\n",
            "32  33    0.9060\n",
            "33  34    0.9070\n",
            "34  35    0.9080\n",
            "35  36    0.9070\n",
            "36  37    0.9070\n",
            "37  38    0.9055\n",
            "38  39    0.9055\n",
            "39  40    0.9055\n",
            "40  41    0.9070\n",
            "41  42    0.9045\n",
            "42  43    0.9065\n",
            "43  44    0.9080\n",
            "44  45    0.9095\n",
            "45  46    0.9060\n",
            "46  47    0.9065\n",
            "47  48    0.9070\n",
            "48  49    0.9085\n"
          ]
        }
      ]
    },
    {
      "cell_type": "code",
      "source": [
        "p = results.plot.scatter(x='k', y='accuracy', xlim=[0,30])\n"
      ],
      "metadata": {
        "colab": {
          "base_uri": "https://localhost:8080/",
          "height": 449
        },
        "id": "rlTo98EW3IG7",
        "outputId": "72e0bad6-a675-464a-86eb-650960139166"
      },
      "execution_count": 193,
      "outputs": [
        {
          "output_type": "display_data",
          "data": {
            "text/plain": [
              "<Figure size 640x480 with 1 Axes>"
            ],
            "image/png": "[encoded data removed]"
          },
          "metadata": {}
        }
      ]
    },
    {
      "cell_type": "code",
      "source": [
        "from sklearn.neighbors import KNeighborsClassifier\n",
        "from sklearn import metrics\n",
        "#Train Model and Predict\n",
        "k = 43\n",
        "neigh = KNeighborsClassifier(n_neighbors = k).fit(X_train,y_train)\n",
        "Pred_y = neigh.predict(X_test)\n",
        "print(\"Accuracy of model at K=43 is\",metrics.accuracy_score(y_test, Pred_y))"
      ],
      "metadata": {
        "colab": {
          "base_uri": "https://localhost:8080/"
        },
        "id": "JP_7V8Wr638t",
        "outputId": "d7285c9a-c95c-492e-f333-5cefdf6cd1f8"
      },
      "execution_count": 194,
      "outputs": [
        {
          "output_type": "stream",
          "name": "stdout",
          "text": [
            "Accuracy of model at K=43 is 0.9065\n"
          ]
        }
      ]
    },
    {
      "cell_type": "markdown",
      "source": [
        "**Confusion Matrix**"
      ],
      "metadata": {
        "id": "5gO-slljLZ09"
      }
    },
    {
      "cell_type": "code",
      "source": [
        "from sklearn.metrics import confusion_matrix\n",
        "clf=KNeighborsClassifier(n_neighbors=35)\n",
        "clf.fit(X_train,y_train)\n",
        "predicted_value=clf.predict(X_test)\n",
        "con_mat=confusion_matrix(y_test,predicted_value)\n",
        "sns.heatmap(con_mat,annot=True,annot_kws=\n",
        "                           {\"size\":10},cbar=False,fmt='g',cmap=\"viridis\")\n",
        "plt.show()"
      ],
      "metadata": {
        "colab": {
          "base_uri": "https://localhost:8080/",
          "height": 430
        },
        "id": "gK66_18S635P",
        "outputId": "0055e724-d58c-4c6c-eae2-2929183284ed"
      },
      "execution_count": 195,
      "outputs": [
        {
          "output_type": "display_data",
          "data": {
            "text/plain": [
              "<Figure size 640x480 with 1 Axes>"
            ],
            "image/png": "[encoded data removed]"
          },
          "metadata": {}
        }
      ]
    },
    {
      "cell_type": "markdown",
      "source": [
        "**Splitting the data in training(50%), validation(30%),and test(20%) sets**"
      ],
      "metadata": {
        "id": "yi_mi8PnLhIs"
      }
    },
    {
      "cell_type": "code",
      "source": [
        "# Splitting the data in training(50%), validation(30%),and test(20%) sets\n",
        "train_df, temp_df = train_test_split(Bank_Data, test_size=0.5, random_state=1)\n",
        "valid_df, test_df = train_test_split(temp_df, test_size=0.4, random_state=1)\n",
        "print('Training dataset', train_df.shape)\n",
        "print('Validation dataset', valid_df.shape)\n",
        "print('Test dataset', test_df.shape)\n",
        ""
      ],
      "metadata": {
        "colab": {
          "base_uri": "https://localhost:8080/"
        },
        "id": "wz9vVT5n633p",
        "outputId": "293524c8-aee8-4087-fe2e-2211239322a5"
      },
      "execution_count": 196,
      "outputs": [
        {
          "output_type": "stream",
          "name": "stdout",
          "text": [
            "Training dataset (2500, 14)\n",
            "Validation dataset (1500, 14)\n",
            "Test dataset (1000, 14)\n"
          ]
        }
      ]
    },
    {
      "cell_type": "markdown",
      "source": [
        "**Normalize data**"
      ],
      "metadata": {
        "id": "kvCrMawlLoOU"
      }
    },
    {
      "cell_type": "code",
      "source": [
        "# Outcomes feature scaling and preprocessing\n",
        "from sklearn import preprocessing\n",
        "outcome = 'Personal Loan'\n",
        "predictors = list(Bank_Data.columns)\n",
        "predictors.remove(outcome)\n",
        "Scaler = preprocessing.StandardScaler()\n",
        "Scaler.fit(train_df[predictors])\n",
        "train_x = Scaler.transform(train_df[predictors])\n",
        "train_y = train_df[outcome]\n",
        "valid_x = Scaler.transform(valid_df[predictors])\n",
        "valid_y = valid_df[outcome]\n",
        "test_x = Scaler.transform(test_df[predictors])\n",
        "test_y = test_df[outcome]\n"
      ],
      "metadata": {
        "id": "PgR1YtkW632J"
      },
      "execution_count": 197,
      "outputs": []
    },
    {
      "cell_type": "code",
      "source": [
        "# fitting the data for the best K value (35)\n",
        "classifier = KNeighborsClassifier(n_neighbors=35)\n",
        "classifier.fit(train_x, train_y)\n"
      ],
      "metadata": {
        "colab": {
          "base_uri": "https://localhost:8080/",
          "height": 74
        },
        "id": "_NI1fHem7ZNT",
        "outputId": "ca23386a-6bbe-4cf2-afc1-27e413544497"
      },
      "execution_count": 198,
      "outputs": [
        {
          "output_type": "execute_result",
          "data": {
            "text/plain": [
              "KNeighborsClassifier(n_neighbors=35)"
            ],
            "text/html": [
              "<style>#sk-container-id-11 {color: black;background-color: white;}#sk-container-id-11 pre{padding: 0;}#sk-container-id-11 div.sk-toggleable {background-color: white;}#sk-container-id-11 label.sk-toggleable__label {cursor: pointer;display: block;width: 100%;margin-bottom: 0;padding: 0.3em;box-sizing: border-box;text-align: center;}#sk-container-id-11 label.sk-toggleable__label-arrow:before {content: \"▸\";float: left;margin-right: 0.25em;color: #696969;}#sk-container-id-11 label.sk-toggleable__label-arrow:hover:before {color: black;}#sk-container-id-11 div.sk-estimator:hover label.sk-toggleable__label-arrow:before {color: black;}#sk-container-id-11 div.sk-toggleable__content {max-height: 0;max-width: 0;overflow: hidden;text-align: left;background-color: #f0f8ff;}#sk-container-id-11 div.sk-toggleable__content pre {margin: 0.2em;color: black;border-radius: 0.25em;background-color: #f0f8ff;}#sk-container-id-11 input.sk-toggleable__control:checked~div.sk-toggleable__content {max-height: 200px;max-width: 100%;overflow: auto;}#sk-container-id-11 input.sk-toggleable__control:checked~label.sk-toggleable__label-arrow:before {content: \"▾\";}#sk-container-id-11 div.sk-estimator input.sk-toggleable__control:checked~label.sk-toggleable__label {background-color: #d4ebff;}#sk-container-id-11 div.sk-label input.sk-toggleable__control:checked~label.sk-toggleable__label {background-color: #d4ebff;}#sk-container-id-11 input.sk-hidden--visually {border: 0;clip: rect(1px 1px 1px 1px);clip: rect(1px, 1px, 1px, 1px);height: 1px;margin: -1px;overflow: hidden;padding: 0;position: absolute;width: 1px;}#sk-container-id-11 div.sk-estimator {font-family: monospace;background-color: #f0f8ff;border: 1px dotted black;border-radius: 0.25em;box-sizing: border-box;margin-bottom: 0.5em;}#sk-container-id-11 div.sk-estimator:hover {background-color: #d4ebff;}#sk-container-id-11 div.sk-parallel-item::after {content: \"\";width: 100%;border-bottom: 1px solid gray;flex-grow: 1;}#sk-container-id-11 div.sk-label:hover label.sk-toggleable__label {background-color: #d4ebff;}#sk-container-id-11 div.sk-serial::before {content: \"\";position: absolute;border-left: 1px solid gray;box-sizing: border-box;top: 0;bottom: 0;left: 50%;z-index: 0;}#sk-container-id-11 div.sk-serial {display: flex;flex-direction: column;align-items: center;background-color: white;padding-right: 0.2em;padding-left: 0.2em;position: relative;}#sk-container-id-11 div.sk-item {position: relative;z-index: 1;}#sk-container-id-11 div.sk-parallel {display: flex;align-items: stretch;justify-content: center;background-color: white;position: relative;}#sk-container-id-11 div.sk-item::before, #sk-container-id-11 div.sk-parallel-item::before {content: \"\";position: absolute;border-left: 1px solid gray;box-sizing: border-box;top: 0;bottom: 0;left: 50%;z-index: -1;}#sk-container-id-11 div.sk-parallel-item {display: flex;flex-direction: column;z-index: 1;position: relative;background-color: white;}#sk-container-id-11 div.sk-parallel-item:first-child::after {align-self: flex-end;width: 50%;}#sk-container-id-11 div.sk-parallel-item:last-child::after {align-self: flex-start;width: 50%;}#sk-container-id-11 div.sk-parallel-item:only-child::after {width: 0;}#sk-container-id-11 div.sk-dashed-wrapped {border: 1px dashed gray;margin: 0 0.4em 0.5em 0.4em;box-sizing: border-box;padding-bottom: 0.4em;background-color: white;}#sk-container-id-11 div.sk-label label {font-family: monospace;font-weight: bold;display: inline-block;line-height: 1.2em;}#sk-container-id-11 div.sk-label-container {text-align: center;}#sk-container-id-11 div.sk-container {/* jupyter's `normalize.less` sets `[hidden] { display: none; }` but bootstrap.min.css set `[hidden] { display: none !important; }` so we also need the `!important` here to be able to override the default hidden behavior on the sphinx rendered scikit-learn.org. See: https://github.com/scikit-learn/scikit-learn/issues/21755 */display: inline-block !important;position: relative;}#sk-container-id-11 div.sk-text-repr-fallback {display: none;}</style><div id=\"sk-container-id-11\" class=\"sk-top-container\"><div class=\"sk-text-repr-fallback\"><pre>KNeighborsClassifier(n_neighbors=35)</pre><b>In a Jupyter environment, please rerun this cell to show the HTML representation or trust the notebook. <br />On GitHub, the HTML representation is unable to render, please try loading this page with nbviewer.org.</b></div><div class=\"sk-container\" hidden><div class=\"sk-item\"><div class=\"sk-estimator sk-toggleable\"><input class=\"sk-toggleable__control sk-hidden--visually\" id=\"sk-estimator-id-11\" type=\"checkbox\" checked><label for=\"sk-estimator-id-11\" class=\"sk-toggleable__label sk-toggleable__label-arrow\">KNeighborsClassifier</label><div class=\"sk-toggleable__content\"><pre>KNeighborsClassifier(n_neighbors=35)</pre></div></div></div></div></div>"
            ]
          },
          "metadata": {},
          "execution_count": 198
        }
      ]
    },
    {
      "cell_type": "code",
      "source": [
        "#Confusion Matrix for training data\n",
        "knnPredOpt = classifier.predict(train_x)\n",
        "print(confusion_matrix(train_y, knnPredOpt))\n",
        "print('Accuracy:', accuracy_score(train_y, knnPredOpt))"
      ],
      "metadata": {
        "colab": {
          "base_uri": "https://localhost:8080/"
        },
        "id": "Q7EeAuy57csC",
        "outputId": "48f4111b-c581-48a5-bcd9-bd7ac8ec9489"
      },
      "execution_count": 199,
      "outputs": [
        {
          "output_type": "stream",
          "name": "stdout",
          "text": [
            "[[2257    2]\n",
            " [ 141  100]]\n",
            "Accuracy: 0.9428\n"
          ]
        }
      ]
    },
    {
      "cell_type": "code",
      "source": [
        "#Confusion Matrix for Validation Data\n",
        "knnPredict = classifier.predict(valid_x)\n",
        "print(confusion_matrix(valid_y, knnPredict))\n",
        "print('Accuracy:', accuracy_score(valid_y, knnPredict))"
      ],
      "metadata": {
        "colab": {
          "base_uri": "https://localhost:8080/"
        },
        "id": "EOCsJ1_R7hf8",
        "outputId": "44c10a69-b200-46a2-dcc7-12e3b828ded3"
      },
      "execution_count": 200,
      "outputs": [
        {
          "output_type": "stream",
          "name": "stdout",
          "text": [
            "[[1346    3]\n",
            " [ 105   46]]\n",
            "Accuracy: 0.928\n"
          ]
        }
      ]
    },
    {
      "cell_type": "code",
      "source": [
        "#Confusion Matrix for test Dataset\n",
        "knnPredict = classifier.predict(test_x)\n",
        "print(confusion_matrix(test_y, knnPredict))\n",
        "print('Accuracy:', accuracy_score(test_y, knnPredict))"
      ],
      "metadata": {
        "colab": {
          "base_uri": "https://localhost:8080/"
        },
        "id": "_5S7vzh77nj6",
        "outputId": "29c97ef1-8f50-4684-9f1a-b13d1a44172d"
      },
      "execution_count": 201,
      "outputs": [
        {
          "output_type": "stream",
          "name": "stdout",
          "text": [
            "[[908   4]\n",
            " [ 57  31]]\n",
            "Accuracy: 0.939\n"
          ]
        }
      ]
    },
    {
      "cell_type": "markdown",
      "source": [
        "Change in accuracy can be observed in train,test and validation split. While comparing the test set with the validation set we can observe that test set results in better accuracy when compared to validation set While comparing the test set with the train set we can observe that the training set resulted with a better accuracy when compared to the test set."
      ],
      "metadata": {
        "id": "87b97VzRLyNU"
      }
    },
    {
      "cell_type": "code",
      "source": [],
      "metadata": {
        "id": "AAnDVBLv7rHl"
      },
      "execution_count": 201,
      "outputs": []
    }
  ]
}